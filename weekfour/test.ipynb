{
 "cells": [
  {
   "cell_type": "code",
   "execution_count": 7,
   "metadata": {},
   "outputs": [],
   "source": [
    "# Part 2 of Week 4 assignment\n",
    "# Author: Yunjia Zeng\n",
    "# env: Python 3\n",
    "\n",
    "import pandas as pd\n",
    "import datetime\n",
    "import urllib\n",
    "from urllib.request import urlopen\n",
    "\n",
    "def AirNow():\n",
    "\tcount = 0\n",
    "\tbaseURL = \"http://www.airnowapi.org/aq/forecast/\"\n",
    "\tapi_key = '22AAC340-751E-4CDF-A907-17C3F98922B1'\n",
    "\t#date = '2018-08-04'\n",
    "\t# get the current date as input\n",
    "\tnow = datetime.datetime.now()\n",
    "\tdate = str(now)\n",
    "\tmiles = 25\n",
    "\tdfs = list()\n",
    "\n",
    "\twhile count < 4:\n",
    "\t\ttry:\n",
    "\t\t\tflag = int(input(\"Do you wish to quit or continue? 1 for continue and 0 for quit: \"))\n",
    "\t\texcept ValueError:\n",
    "\t\t\tprint(\"Please input the correct command!\")\n",
    "\t\t\tcontinue\n",
    "\t\tif flag == 1:\n",
    "\t\t\tzipcode = input(\"Please input your zip code:\")\n",
    "\t\t\tzipURL = baseURL + \"zipCode/?\" + urllib.parse.urlencode({\n",
    "\t\t\t\t'format': 'application/json',\n",
    "\t\t\t\t'zipCode': zipcode,\n",
    "\t\t\t\t'date': date[:10],\n",
    "\t\t\t\t'distance': miles,\n",
    "\t\t\t\t'API_KEY': api_key\n",
    "\t\t\t\t})\n",
    "\t\t\tresponse = urlopen(zipURL).read().decode('utf-8')\n",
    "\t\t\tdf = pd.read_json(response)\n",
    "\t\t\tdf = df.assign(Zipcode=zipcode)\n",
    "\t\t\tdfs.append(df)\n",
    "\t\t\tcount = count + 1\n",
    "\t\telse:\n",
    "\t\t\tprint(\"See your next time...\")\n",
    "\t\t\tbreak\n",
    "\n",
    "\tresults = pd.concat(dfs)\n",
    "\tcolumns = ['ActionDay', 'Category', 'DateIssue', 'Discussion', 'Latitude', 'Longitude']\n",
    "\tresults.drop(columns, inplace=True, axis=1)\n",
    "\treturn results"
   ]
  },
  {
   "cell_type": "code",
   "execution_count": 9,
   "metadata": {},
   "outputs": [
    {
     "name": "stdout",
     "output_type": "stream",
     "text": [
      "Do you wish to quit or continue? 1 for continue and 0 for quit: 1\n",
      "Please input your zip code:20002\n",
      "Do you wish to quit or continue? 1 for continue and 0 for quit: 1\n",
      "Please input your zip code:44691\n",
      "Do you wish to quit or continue? 1 for continue and 0 for quit: 1\n",
      "Please input your zip code:90210\n",
      "Do you wish to quit or continue? 1 for continue and 0 for quit: 1\n",
      "Please input your zip code:80302\n",
      "   AQI DateForecast ParameterName            ReportingArea StateCode Zipcode\n",
      "0   47  2018-08-04             O3  Metropolitan Washington        DC   20002\n",
      "1   38  2018-08-04          PM2.5  Metropolitan Washington        DC   20002\n",
      "2   61  2018-08-05             O3  Metropolitan Washington        DC   20002\n",
      "3   50  2018-08-05          PM2.5  Metropolitan Washington        DC   20002\n",
      "4   90  2018-08-06             O3  Metropolitan Washington        DC   20002\n",
      "5   53  2018-08-06          PM2.5  Metropolitan Washington        DC   20002\n",
      "0   -1  2018-08-04             O3         Canton/Massillon        OH   44691\n",
      "0   46  2018-08-04             O3            NW Coastal LA        CA   90210\n",
      "1   42  2018-08-04          PM2.5            NW Coastal LA        CA   90210\n",
      "2   19  2018-08-04           PM10            NW Coastal LA        CA   90210\n",
      "3   20  2018-08-04            NO2            NW Coastal LA        CA   90210\n",
      "4   15  2018-08-04             CO            NW Coastal LA        CA   90210\n",
      "0   -1  2018-08-04             O3                   Denver        CO   80302\n",
      "1   -1  2018-08-04          PM2.5                   Denver        CO   80302\n"
     ]
    }
   ],
   "source": [
    "def main():\n",
    "\tresults = AirNow()\n",
    "    print(results)\n",
    "    results.to_csv('OUTFILE.txt', sep='\\t', index=False)"
   ]
  },
  {
   "cell_type": "code",
   "execution_count": null,
   "metadata": {
    "collapsed": true
   },
   "outputs": [],
   "source": []
  }
 ],
 "metadata": {
  "kernelspec": {
   "display_name": "Python 3",
   "language": "python",
   "name": "python3"
  },
  "language_info": {
   "codemirror_mode": {
    "name": "ipython",
    "version": 3
   },
   "file_extension": ".py",
   "mimetype": "text/x-python",
   "name": "python",
   "nbconvert_exporter": "python",
   "pygments_lexer": "ipython3",
   "version": "3.6.3"
  }
 },
 "nbformat": 4,
 "nbformat_minor": 2
}
