{
 "cells": [
  {
   "cell_type": "code",
   "execution_count": 1,
   "metadata": {},
   "outputs": [
    {
     "name": "stderr",
     "output_type": "stream",
     "text": [
      "C:\\Users\\Yunjia\\Anaconda3\\lib\\site-packages\\statsmodels\\compat\\pandas.py:56: FutureWarning: The pandas.core.datetools module is deprecated and will be removed in a future version. Please use the pandas.tseries module instead.\n",
      "  from pandas.core import datetools\n"
     ]
    }
   ],
   "source": [
    "# env: Python 3\n",
    "\n",
    "## import libraries\n",
    "import pandas as pd\n",
    "import numpy as np\n",
    "import sys\n",
    "from scipy.stats import ttest_ind\n",
    "import matplotlib.pyplot as plt\n",
    "%matplotlib inline\n",
    "import statsmodels.api as sm\n",
    "from statsmodels.formula.api import ols"
   ]
  },
  {
   "cell_type": "code",
   "execution_count": 2,
   "metadata": {
    "collapsed": true
   },
   "outputs": [],
   "source": [
    "## read in data\n",
    "mydata = pd.read_csv('data/StudentData2.csv')"
   ]
  },
  {
   "cell_type": "code",
   "execution_count": 3,
   "metadata": {},
   "outputs": [],
   "source": [
    "## convert 'id' to string\n",
    "mydata['id'] = mydata['id'].apply(str)\n",
    "\n",
    "## remove rows if length of 'id' is not equals to 6\n",
    "mydata = mydata[mydata['id'].map(len) == 6]"
   ]
  },
  {
   "cell_type": "code",
   "execution_count": 4,
   "metadata": {},
   "outputs": [],
   "source": [
    "## remove rows if gender is not 0 or 1\n",
    "mydata = mydata[(mydata.gender == 1) | (mydata.gender == 2)]"
   ]
  },
  {
   "cell_type": "code",
   "execution_count": 5,
   "metadata": {},
   "outputs": [],
   "source": [
    "## remove rows that age is not between 18 and 80\n",
    "mydata = mydata[(mydata.age >= 18) & (mydata.age <= 80)]"
   ]
  },
  {
   "cell_type": "code",
   "execution_count": 6,
   "metadata": {},
   "outputs": [],
   "source": [
    "## remove rows with gpa not between [0, 4], and missing\n",
    "mydata = mydata[(mydata.gpa >= 0) & (mydata.gpa <= 4.0)]\n",
    "mydata = mydata[pd.notnull(mydata['gpa'])]"
   ]
  },
  {
   "cell_type": "code",
   "execution_count": 7,
   "metadata": {},
   "outputs": [],
   "source": [
    "## remove rows w/ SAT score out of range [0, 1600], and missing value\n",
    "mydata = mydata[(mydata.sat >= 0) & (mydata.sat <= 1600)]\n",
    "mydata = mydata[pd.notnull(mydata['sat'])]"
   ]
  },
  {
   "cell_type": "code",
   "execution_count": 8,
   "metadata": {},
   "outputs": [],
   "source": [
    "## remove rows w/ null in 'section'\n",
    "mydata = mydata[pd.notnull(mydata['section'])]"
   ]
  },
  {
   "cell_type": "code",
   "execution_count": 9,
   "metadata": {
    "collapsed": true
   },
   "outputs": [],
   "source": [
    "## remove incorrect value of final and project\n",
    "mydata = mydata[(mydata.final >= 0) & (mydata.final <= 100)]\n",
    "mydata = mydata[pd.notnull(mydata['final'])]\n",
    "mydata = mydata[(mydata.project >= 0) & (mydata.project <= 100)]\n",
    "mydata = mydata[pd.notnull(mydata['project'])]"
   ]
  },
  {
   "cell_type": "code",
   "execution_count": 10,
   "metadata": {},
   "outputs": [
    {
     "name": "stdout",
     "output_type": "stream",
     "text": [
      "        id  gender  age   gpa     sat  section  final  project\n",
      "0   618027       2   27  2.59   700.0      3.0     75       69\n",
      "1   691694       2   33  3.49   950.0      4.0     89       81\n",
      "2   661363       2   31  3.78  1172.0      5.0     75       86\n",
      "4   624861       2   27  3.47  1099.0      3.0     89       94\n",
      "5   673174       2   32  3.36  1115.0      5.0     87       89\n",
      "6   681530       2   26  3.14  1039.0      3.0     94       97\n",
      "7   631316       2   27  2.80   720.0      3.0     81       91\n",
      "9   664779       2   25  3.49  1195.0      5.0     89       80\n",
      "11  642612       2   24  3.72  1308.0      5.0     87       79\n",
      "12  654740       2   30  3.08   850.0      4.0     96       97\n",
      "13  614150       2   26  3.90  1440.0      4.0     97       90\n",
      "14  610145       2   30  3.33  1195.0      5.0     89       92\n",
      "15  611050       2   26  1.78   500.0      1.0     53       56\n",
      "17  667689       1   26  3.36  1111.0      3.0     60       67\n",
      "18  658905       1   25  3.47  1152.0      4.0     71       79\n",
      "20  670432       1   23  3.34  1130.0      1.0     82       87\n",
      "22  660608       1   27  3.10  1104.0      3.0     56       60\n",
      "23  653457       1   28  3.38  1355.0      3.0     69       76\n",
      "24  675282       1   29  3.09  1090.0      5.0     78       89\n",
      "25  638785       1   23  3.59  1250.0      1.0     97       99\n",
      "27  641697       1   28  3.02  1070.0      5.0     46       52\n",
      "28  686836       1   28  3.45  1306.0      5.0     86       79\n",
      "29  654301       1   30  3.49     3.0      2.0     92       92\n",
      "30  615986       1   30  3.54  1350.0      5.0     91       87\n"
     ]
    }
   ],
   "source": [
    "## print dataframe\n",
    "print(mydata)"
   ]
  },
  {
   "cell_type": "code",
   "execution_count": 11,
   "metadata": {
    "collapsed": true
   },
   "outputs": [],
   "source": [
    "## save to csv\n",
    "mydata.to_csv('output/OUTFILE.txt', sep = '\\t')"
   ]
  },
  {
   "cell_type": "code",
   "execution_count": 12,
   "metadata": {},
   "outputs": [],
   "source": [
    "# determine if final score w/ different gender\n",
    "male_final = mydata[mydata['gender'] == 1]\n",
    "female_final = mydata[mydata['gender'] == 2]\n",
    "\n",
    "t_result = ttest_ind(male_final['final'], female_final['final'])"
   ]
  },
  {
   "cell_type": "code",
   "execution_count": 13,
   "metadata": {},
   "outputs": [
    {
     "data": {
      "text/plain": [
       "Ttest_indResult(statistic=-1.6364880163095339, pvalue=0.1159644309641248)"
      ]
     },
     "execution_count": 13,
     "metadata": {},
     "output_type": "execute_result"
    }
   ],
   "source": [
    "t_result"
   ]
  },
  {
   "cell_type": "code",
   "execution_count": 14,
   "metadata": {
    "collapsed": true
   },
   "outputs": [],
   "source": [
    "# print to file\n",
    "with open(\"output/OUTFILE.txt\", \"a\") as myfile:\n",
    "    myfile.write('\\n\\n' + str(t_result))\n",
    "    myfile.write('\\nExplanation: The p-value shows that there is a 11.59% of probability that the results from ')\n",
    "    myfile.write('this experiment happened by chance. Since it is greater than 5%, this p-value is not accepted ')\n",
    "    myfile.write('to mean the data is valid.')"
   ]
  },
  {
   "cell_type": "code",
   "execution_count": 15,
   "metadata": {},
   "outputs": [
    {
     "name": "stdout",
     "output_type": "stream",
     "text": [
      "The corrolation between final and project is:  0.898631551354\n"
     ]
    }
   ],
   "source": [
    "## determine the corrolation between final and project\n",
    "corr = mydata['final'].corr(mydata['project'])\n",
    "print('The corrolation between final and project is: ', corr)"
   ]
  },
  {
   "cell_type": "code",
   "execution_count": 16,
   "metadata": {},
   "outputs": [],
   "source": [
    "## print to file\n",
    "with open(\"output/OUTFILE.txt\", \"a\") as myfile:\n",
    "    myfile.write('\\n\\nThe corrolation between final and project is: ' + str(corr))\n",
    "    myfile.write(', which means that final and project is highly corrolated since it is close to 1.')"
   ]
  },
  {
   "cell_type": "code",
   "execution_count": 17,
   "metadata": {},
   "outputs": [
    {
     "name": "stderr",
     "output_type": "stream",
     "text": [
      "C:\\Users\\Yunjia\\Anaconda3\\lib\\site-packages\\numpy\\core\\fromnumeric.py:57: FutureWarning: reshape is deprecated and will raise in a subsequent release. Please use .values.reshape(...) instead\n",
      "  return getattr(obj, method)(*args, **kwds)\n"
     ]
    },
    {
     "data": {
      "image/png": "[encoded data removed]",
      "text/plain": [
       "<matplotlib.figure.Figure at 0x1bc39681ef0>"
      ]
     },
     "metadata": {},
     "output_type": "display_data"
    }
   ],
   "source": [
    "## determine if there's a significant difference between the 5 sections using ANOVA\n",
    "#Create a boxplot\n",
    "anova_df = mydata[['section', 'final']]\n",
    "\n",
    "anova_df.boxplot('final', by='section', figsize=(12, 8))\n",
    "plt.savefig('output/boxplot.png')"
   ]
  },
  {
   "cell_type": "code",
   "execution_count": 18,
   "metadata": {},
   "outputs": [],
   "source": [
    "## replace section with group names\n",
    "my_dict = {1: 'one', 2: 'two', 3: 'three', 4: 'four', 5: 'five'}\n",
    "\n",
    "anova_df = anova_df.replace({'section': my_dict})\n",
    "\n",
    "## prepare for ANOVA test\n",
    "section1 = anova_df['final'][anova_df.section == 'one']\n",
    " \n",
    "grps = pd.unique(anova_df.section.values)\n",
    "d_data = {grp: anova_df['final'][anova_df.section == grp] for grp in grps}\n",
    " \n",
    "k = len(pd.unique(anova_df.section))  # number of conditions\n",
    "N = len(anova_df.values)  # conditions times participants\n",
    "n = anova_df.groupby('section').size()[0] #Participants in each condition"
   ]
  },
  {
   "cell_type": "code",
   "execution_count": 19,
   "metadata": {},
   "outputs": [
    {
     "name": "stdout",
     "output_type": "stream",
     "text": [
      "               sum_sq    df         F    PR(>F)\n",
      "section    626.462302   4.0  0.700962  0.600854\n",
      "Residual  4245.162698  19.0       NaN       NaN\n"
     ]
    }
   ],
   "source": [
    "mod = ols('final ~ section', data= anova_df).fit()\n",
    "                \n",
    "aov_table = sm.stats.anova_lm(mod, typ=2)\n",
    "print(aov_table)"
   ]
  },
  {
   "cell_type": "code",
   "execution_count": 20,
   "metadata": {},
   "outputs": [],
   "source": [
    "# print ANOVA result to file\n",
    "with open(\"output/OUTFILE.txt\", \"a\") as myfile:\n",
    "    myfile.write('\\n\\n' + str(aov_table))\n",
    "    myfile.write('\\nThis tells us that there is no significant difference in the group means for final and section.')"
   ]
  },
  {
   "cell_type": "code",
   "execution_count": 21,
   "metadata": {},
   "outputs": [
    {
     "name": "stdout",
     "output_type": "stream",
     "text": [
      "For final: \n",
      "Mean:  80.375\n",
      "Standard deviation:  14.2472585082\n",
      "Minimum:  46\n",
      "Maximum:  97\n",
      "Median:  86.5\n",
      "Variance:  202.984375\n"
     ]
    }
   ],
   "source": [
    "## use numpy to get mean, median, max, min, variance, and std dev\n",
    "## for final, project, gpa, and sat\n",
    "\n",
    "# transform all data columns to np array\n",
    "final = np.array(mydata['final'])\n",
    "project = np.array(mydata['project'])\n",
    "gpa = np.array(mydata['gpa'])\n",
    "sat = np.array(mydata['sat'])\n",
    "\n",
    "print(\"For final: \")\n",
    "print(\"Mean: \", final.mean())\n",
    "print(\"Standard deviation: \", final.std())\n",
    "print(\"Minimum: \", final.min())\n",
    "print(\"Maximum: \", final.max())\n",
    "print(\"Median: \", np.median(final))\n",
    "print(\"Variance: \", np.var(final))"
   ]
  },
  {
   "cell_type": "code",
   "execution_count": 22,
   "metadata": {},
   "outputs": [],
   "source": [
    "## print to file\n",
    "with open(\"output/OUTFILE.txt\", \"a\") as myfile:\n",
    "    myfile.write(\"\\n\\nFor final: \")\n",
    "    myfile.write(\"\\nMean: \" + str(final.mean()))\n",
    "    myfile.write(\"\\nStandard deviation: \" + str(final.std()))\n",
    "    myfile.write(\"\\nMinimum: \" + str(final.min()))\n",
    "    myfile.write(\"\\nMaximum: \" + str(final.max()))\n",
    "    myfile.write(\"\\nMedian: \" + str(np.median(final)))\n",
    "    myfile.write(\"\\nVariance: \" + str(np.var(final)))"
   ]
  },
  {
   "cell_type": "code",
   "execution_count": 23,
   "metadata": {},
   "outputs": [
    {
     "name": "stdout",
     "output_type": "stream",
     "text": [
      "For project: \n",
      "Mean:  82.0\n",
      "Standard deviation:  12.770408503\n",
      "Minimum:  52\n",
      "Maximum:  99\n",
      "Median:  86.5\n",
      "Variance:  163.083333333\n"
     ]
    }
   ],
   "source": [
    "print(\"For project: \")\n",
    "print(\"Mean: \", project.mean())\n",
    "print(\"Standard deviation: \", project.std())\n",
    "print(\"Minimum: \", project.min())\n",
    "print(\"Maximum: \", project.max())\n",
    "print(\"Median: \", np.median(project))\n",
    "print(\"Variance: \", np.var(project))"
   ]
  },
  {
   "cell_type": "code",
   "execution_count": 24,
   "metadata": {
    "collapsed": true
   },
   "outputs": [],
   "source": [
    "## print to file\n",
    "with open(\"output/OUTFILE.txt\", \"a\") as myfile:\n",
    "    myfile.write(\"\\n\\nFor project: \")\n",
    "    myfile.write(\"\\nMean: \" + str(project.mean()))\n",
    "    myfile.write(\"\\nStandard deviation: \" + str(project.std()))\n",
    "    myfile.write(\"\\nMinimum: \" + str(project.min()))\n",
    "    myfile.write(\"\\nMaximum: \" + str(project.max()))\n",
    "    myfile.write(\"\\nMedian: \" + str(np.median(project)))\n",
    "    myfile.write(\"\\nVariance: \" + str(np.var(project)))"
   ]
  },
  {
   "cell_type": "code",
   "execution_count": 25,
   "metadata": {},
   "outputs": [
    {
     "name": "stdout",
     "output_type": "stream",
     "text": [
      "For gpa: \n",
      "Mean:  3.28166666667\n",
      "Standard deviation:  0.42847273996\n",
      "Minimum:  1.78\n",
      "Maximum:  3.9\n",
      "Median:  3.37\n",
      "Variance:  0.183588888889\n"
     ]
    }
   ],
   "source": [
    "print(\"For gpa: \")\n",
    "print(\"Mean: \", gpa.mean())\n",
    "print(\"Standard deviation: \", gpa.std())\n",
    "print(\"Minimum: \", gpa.min())\n",
    "print(\"Maximum: \", gpa.max())\n",
    "print(\"Median: \", np.median(gpa))\n",
    "print(\"Variance: \", np.var(gpa))"
   ]
  },
  {
   "cell_type": "code",
   "execution_count": 26,
   "metadata": {
    "collapsed": true
   },
   "outputs": [],
   "source": [
    "## print to file\n",
    "with open(\"output/OUTFILE.txt\", \"a\") as myfile:\n",
    "    myfile.write(\"\\n\\nFor gpa: \")\n",
    "    myfile.write(\"\\nMean: \" + str(gpa.mean()))\n",
    "    myfile.write(\"\\nStandard deviation: \" + str(gpa.std()))\n",
    "    myfile.write(\"\\nMinimum: \" + str(gpa.min()))\n",
    "    myfile.write(\"\\nMaximum: \" + str(gpa.max()))\n",
    "    myfile.write(\"\\nMedian: \" + str(np.median(gpa)))\n",
    "    myfile.write(\"\\nVariance: \" + str(np.var(gpa)))"
   ]
  },
  {
   "cell_type": "code",
   "execution_count": 27,
   "metadata": {},
   "outputs": [
    {
     "name": "stdout",
     "output_type": "stream",
     "text": [
      "For sat: \n",
      "Mean:  1050.16666667\n",
      "Standard deviation:  307.981014927\n",
      "Minimum:  3.0\n",
      "Maximum:  1440.0\n",
      "Median:  1113.0\n",
      "Variance:  94852.3055556\n"
     ]
    }
   ],
   "source": [
    "print(\"For sat: \")\n",
    "print(\"Mean: \", sat.mean())\n",
    "print(\"Standard deviation: \", sat.std())\n",
    "print(\"Minimum: \", sat.min())\n",
    "print(\"Maximum: \", sat.max())\n",
    "print(\"Median: \", np.median(sat))\n",
    "print(\"Variance: \", np.var(sat))"
   ]
  },
  {
   "cell_type": "code",
   "execution_count": 28,
   "metadata": {
    "collapsed": true
   },
   "outputs": [],
   "source": [
    "## print to file\n",
    "with open(\"output/OUTFILE.txt\", \"a\") as myfile:\n",
    "    myfile.write(\"\\n\\nFor sat: \")\n",
    "    myfile.write(\"\\nMean: \" + str(sat.mean()))\n",
    "    myfile.write(\"\\nStandard deviation: \" + str(sat.std()))\n",
    "    myfile.write(\"\\nMinimum: \" + str(sat.min()))\n",
    "    myfile.write(\"\\nMaximum: \" + str(sat.max()))\n",
    "    myfile.write(\"\\nMedian: \" + str(np.median(sat)))\n",
    "    myfile.write(\"\\nVariance: \" + str(np.var(sat)))"
   ]
  },
  {
   "cell_type": "code",
   "execution_count": 29,
   "metadata": {},
   "outputs": [
    {
     "data": {
      "image/png": "[encoded data removed]",
      "text/plain": [
       "<matplotlib.figure.Figure at 0x1bc39eb7080>"
      ]
     },
     "metadata": {},
     "output_type": "display_data"
    }
   ],
   "source": [
    "## create scatterplot to look at the relationship between final and project scores\n",
    "plt.title('Scatter plot for project and final')\n",
    "plt.scatter(mydata.final, mydata.project)\n",
    "plt.xlabel('final score')\n",
    "plt.ylabel('project score')\n",
    "plt.savefig('output/scatterplot.png')"
   ]
  },
  {
   "cell_type": "code",
   "execution_count": 30,
   "metadata": {
    "collapsed": true
   },
   "outputs": [],
   "source": [
    "## bar graph shows the gpa values\n",
    "# categorize gpa to A, B, C, D, F\n",
    "\n",
    "mydata['grade'] = pd.cut(mydata.gpa, [0, 0.8, 1.6, 2.4, 3.2, 4], labels = ['F', 'D', 'C', 'B', 'A'])"
   ]
  },
  {
   "cell_type": "code",
   "execution_count": 31,
   "metadata": {},
   "outputs": [
    {
     "data": {
      "image/png": "[encoded data removed]",
      "text/plain": [
       "<matplotlib.figure.Figure at 0x1bc39eb7eb8>"
      ]
     },
     "metadata": {},
     "output_type": "display_data"
    }
   ],
   "source": [
    "plt.title('bar plot for gpa (grade)')\n",
    "pd.value_counts(mydata['grade']).plot.bar()\n",
    "plt.xlabel('student grades')\n",
    "plt.ylabel('count')\n",
    "plt.savefig('output/barplot.png')"
   ]
  },
  {
   "cell_type": "code",
   "execution_count": null,
   "metadata": {
    "collapsed": true
   },
   "outputs": [],
   "source": []
  }
 ],
 "metadata": {
  "kernelspec": {
   "display_name": "Python 3",
   "language": "python",
   "name": "python3"
  },
  "language_info": {
   "codemirror_mode": {
    "name": "ipython",
    "version": 3
   },
   "file_extension": ".py",
   "mimetype": "text/x-python",
   "name": "python",
   "nbconvert_exporter": "python",
   "pygments_lexer": "ipython3",
   "version": "3.6.3"
  }
 },
 "nbformat": 4,
 "nbformat_minor": 2
}
